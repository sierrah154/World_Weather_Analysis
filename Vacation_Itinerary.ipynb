{
 "cells": [
  {
   "cell_type": "markdown",
   "metadata": {},
   "source": [
    "<h1><center>Module 6</center></h1>"
   ]
  },
  {
   "cell_type": "markdown",
   "metadata": {},
   "source": [
    "<h2><center>Part 3: Create a Travel Itinerary with a Corresponding Map</center></h2>\n",
    "<h2><center>(Create direction layer to draw the rout to four cities)</center></h2>"
   ]
  },
  {
   "cell_type": "code",
   "execution_count": 20,
   "metadata": {},
   "outputs": [],
   "source": [
    "import pandas as pd\n",
    "import requests\n",
    "import gmaps\n",
    "\n",
    "from config import g_key"
   ]
  },
  {
   "cell_type": "code",
   "execution_count": 21,
   "metadata": {},
   "outputs": [
    {
     "data": {
      "text/plain": [
       "'0.9.0'"
      ]
     },
     "execution_count": 21,
     "metadata": {},
     "output_type": "execute_result"
    }
   ],
   "source": [
    "gmaps.__version__"
   ]
  },
  {
   "cell_type": "code",
   "execution_count": 22,
   "metadata": {},
   "outputs": [],
   "source": [
    "gmaps.configure(api_key=g_key)"
   ]
  },
  {
   "cell_type": "code",
   "execution_count": 23,
   "metadata": {},
   "outputs": [],
   "source": [
    "vacation_df = pd.read_csv('challenge_data/WeatherPy_Vacation.csv')"
   ]
  },
  {
   "cell_type": "code",
   "execution_count": 24,
   "metadata": {},
   "outputs": [
    {
     "data": {
      "text/html": [
       "<div>\n",
       "<style scoped>\n",
       "    .dataframe tbody tr th:only-of-type {\n",
       "        vertical-align: middle;\n",
       "    }\n",
       "\n",
       "    .dataframe tbody tr th {\n",
       "        vertical-align: top;\n",
       "    }\n",
       "\n",
       "    .dataframe thead th {\n",
       "        text-align: right;\n",
       "    }\n",
       "</style>\n",
       "<table border=\"1\" class=\"dataframe\">\n",
       "  <thead>\n",
       "    <tr style=\"text-align: right;\">\n",
       "      <th></th>\n",
       "      <th>City_ID</th>\n",
       "      <th>City</th>\n",
       "      <th>Country</th>\n",
       "      <th>Max Temp</th>\n",
       "      <th>Lat</th>\n",
       "      <th>Lng</th>\n",
       "      <th>Current Description</th>\n",
       "      <th>Hotel Name</th>\n",
       "    </tr>\n",
       "  </thead>\n",
       "  <tbody>\n",
       "    <tr>\n",
       "      <th>0</th>\n",
       "      <td>2</td>\n",
       "      <td>zhezkazgan</td>\n",
       "      <td>KZ</td>\n",
       "      <td>78.80</td>\n",
       "      <td>47.80</td>\n",
       "      <td>67.71</td>\n",
       "      <td>broken clouds</td>\n",
       "      <td>Kvartiry Posutochno.</td>\n",
       "    </tr>\n",
       "    <tr>\n",
       "      <th>1</th>\n",
       "      <td>6</td>\n",
       "      <td>rzhaksa</td>\n",
       "      <td>RU</td>\n",
       "      <td>79.50</td>\n",
       "      <td>52.13</td>\n",
       "      <td>42.03</td>\n",
       "      <td>clear sky</td>\n",
       "      <td>Gostinitsa Uyut</td>\n",
       "    </tr>\n",
       "    <tr>\n",
       "      <th>2</th>\n",
       "      <td>9</td>\n",
       "      <td>castro</td>\n",
       "      <td>BR</td>\n",
       "      <td>66.33</td>\n",
       "      <td>-24.79</td>\n",
       "      <td>-50.01</td>\n",
       "      <td>clear sky</td>\n",
       "      <td>CHACARA BAILLY</td>\n",
       "    </tr>\n",
       "    <tr>\n",
       "      <th>3</th>\n",
       "      <td>11</td>\n",
       "      <td>vaini</td>\n",
       "      <td>TO</td>\n",
       "      <td>69.80</td>\n",
       "      <td>-21.20</td>\n",
       "      <td>-175.20</td>\n",
       "      <td>few clouds</td>\n",
       "      <td>Keleti Beach Resort</td>\n",
       "    </tr>\n",
       "    <tr>\n",
       "      <th>4</th>\n",
       "      <td>12</td>\n",
       "      <td>hami</td>\n",
       "      <td>CN</td>\n",
       "      <td>89.51</td>\n",
       "      <td>42.80</td>\n",
       "      <td>93.45</td>\n",
       "      <td>broken clouds</td>\n",
       "      <td>Laoyutang Resort</td>\n",
       "    </tr>\n",
       "  </tbody>\n",
       "</table>\n",
       "</div>"
      ],
      "text/plain": [
       "   City_ID        City Country  Max Temp    Lat     Lng Current Description  \\\n",
       "0        2  zhezkazgan      KZ     78.80  47.80   67.71       broken clouds   \n",
       "1        6     rzhaksa      RU     79.50  52.13   42.03           clear sky   \n",
       "2        9      castro      BR     66.33 -24.79  -50.01           clear sky   \n",
       "3       11       vaini      TO     69.80 -21.20 -175.20          few clouds   \n",
       "4       12        hami      CN     89.51  42.80   93.45       broken clouds   \n",
       "\n",
       "             Hotel Name  \n",
       "0  Kvartiry Posutochno.  \n",
       "1       Gostinitsa Uyut  \n",
       "2        CHACARA BAILLY  \n",
       "3   Keleti Beach Resort  \n",
       "4      Laoyutang Resort  "
      ]
     },
     "execution_count": 24,
     "metadata": {},
     "output_type": "execute_result"
    }
   ],
   "source": [
    "vacation_df.head()"
   ]
  },
  {
   "cell_type": "code",
   "execution_count": 25,
   "metadata": {},
   "outputs": [],
   "source": [
    "# Using the template add the hotel marks to the heatmap\n",
    "info_box_template = '''\n",
    "<dl>\n",
    "<dt>Hotel Name</dt><dd>{Hotel Name}</dd>\n",
    "<dt>City</dt><dd>{City}</dd>\n",
    "<dt>Country</dt><dd>{Country}</dd>\n",
    "<dt>Current Description</dt><dd>{Current Description} at {Max Temp}</dd>\n",
    "'''\n",
    "hotel_info = [info_box_template.format(**row) for index, row in vacation_df.iterrows()]\n",
    "locations = vacation_df[['Lat', 'Lng']]"
   ]
  },
  {
   "cell_type": "code",
   "execution_count": 26,
   "metadata": {},
   "outputs": [
    {
     "data": {
      "application/vnd.jupyter.widget-view+json": {
       "model_id": "12c10e743c2a410085c2fef61758474c",
       "version_major": 2,
       "version_minor": 0
      },
      "text/plain": [
       "Figure(layout=FigureLayout(height='420px'))"
      ]
     },
     "metadata": {},
     "output_type": "display_data"
    }
   ],
   "source": [
    "marker_layer = gmaps.marker_layer(locations, info_box_content=hotel_info)\n",
    "fig = gmaps.figure()\n",
    "fig.add_layer(marker_layer)\n",
    "\n",
    "fig"
   ]
  },
  {
   "cell_type": "code",
   "execution_count": 27,
   "metadata": {},
   "outputs": [],
   "source": [
    "vacation_start = vacation_df.loc[vacation_df['City'] == 'raudeberg']\n",
    "vacation_end = vacation_df.loc[vacation_df['City'] == 'vaasa']\n",
    "vacation_stop1 = vacation_df.loc[vacation_df['City'] == 'sorland']\n",
    "vacation_stop2 = vacation_df.loc[vacation_df['City'] == 'ornskoldsvik']"
   ]
  },
  {
   "cell_type": "code",
   "execution_count": 28,
   "metadata": {},
   "outputs": [
    {
     "name": "stdout",
     "output_type": "stream",
     "text": [
      "(61.99, 5.14)\n",
      "(63.1, 21.62)\n",
      "(67.67, 12.69)\n",
      "(63.29, 18.72)\n"
     ]
    }
   ],
   "source": [
    "start = vacation_start['Lat'].values[0], vacation_start['Lng'].values[0]\n",
    "end = vacation_end['Lat'].values[0], vacation_end['Lng'].values[0]\n",
    "stop1 = vacation_stop1['Lat'].values[0], vacation_stop1['Lng'].values[0]\n",
    "stop2 = vacation_stop2['Lat'].values[0], vacation_stop2['Lng'].values[0]\n",
    "\n",
    "print(start)\n",
    "print(end)\n",
    "print(stop1)\n",
    "print(stop2)"
   ]
  },
  {
   "cell_type": "code",
   "execution_count": 29,
   "metadata": {},
   "outputs": [
    {
     "data": {
      "application/vnd.jupyter.widget-view+json": {
       "model_id": "64b10b96c3dd45228489b06be7c723e4",
       "version_major": 2,
       "version_minor": 0
      },
      "text/plain": [
       "Figure(layout=FigureLayout(height='420px'))"
      ]
     },
     "metadata": {},
     "output_type": "display_data"
    }
   ],
   "source": [
    "fig = gmaps.figure()\n",
    "vacation_itinerary = gmaps.directions_layer(\n",
    "    start,end,waypoints=[stop1,stop2],\n",
    "    travel_mode='DRIVING'\n",
    ")\n",
    "fig.add_layer(vacation_itinerary)\n",
    "fig"
   ]
  },
  {
   "cell_type": "code",
   "execution_count": 30,
   "metadata": {},
   "outputs": [],
   "source": [
    "itinerary_df = pd.concat([vacation_start, vacation_end, vacation_stop1, vacation_stop2])"
   ]
  },
  {
   "cell_type": "code",
   "execution_count": 31,
   "metadata": {},
   "outputs": [
    {
     "data": {
      "text/html": [
       "<div>\n",
       "<style scoped>\n",
       "    .dataframe tbody tr th:only-of-type {\n",
       "        vertical-align: middle;\n",
       "    }\n",
       "\n",
       "    .dataframe tbody tr th {\n",
       "        vertical-align: top;\n",
       "    }\n",
       "\n",
       "    .dataframe thead th {\n",
       "        text-align: right;\n",
       "    }\n",
       "</style>\n",
       "<table border=\"1\" class=\"dataframe\">\n",
       "  <thead>\n",
       "    <tr style=\"text-align: right;\">\n",
       "      <th></th>\n",
       "      <th>City_ID</th>\n",
       "      <th>City</th>\n",
       "      <th>Country</th>\n",
       "      <th>Max Temp</th>\n",
       "      <th>Lat</th>\n",
       "      <th>Lng</th>\n",
       "      <th>Current Description</th>\n",
       "      <th>Hotel Name</th>\n",
       "    </tr>\n",
       "  </thead>\n",
       "  <tbody>\n",
       "    <tr>\n",
       "      <th>288</th>\n",
       "      <td>452</td>\n",
       "      <td>raudeberg</td>\n",
       "      <td>NO</td>\n",
       "      <td>66.2</td>\n",
       "      <td>61.99</td>\n",
       "      <td>5.14</td>\n",
       "      <td>light intensity shower rain</td>\n",
       "      <td>Nordre Silda.</td>\n",
       "    </tr>\n",
       "    <tr>\n",
       "      <th>284</th>\n",
       "      <td>447</td>\n",
       "      <td>vaasa</td>\n",
       "      <td>FI</td>\n",
       "      <td>71.6</td>\n",
       "      <td>63.10</td>\n",
       "      <td>21.62</td>\n",
       "      <td>few clouds</td>\n",
       "      <td>Hotel Astor</td>\n",
       "    </tr>\n",
       "    <tr>\n",
       "      <th>122</th>\n",
       "      <td>210</td>\n",
       "      <td>sorland</td>\n",
       "      <td>NO</td>\n",
       "      <td>60.8</td>\n",
       "      <td>67.67</td>\n",
       "      <td>12.69</td>\n",
       "      <td>broken clouds</td>\n",
       "      <td>Sjybrygga fiskecamp</td>\n",
       "    </tr>\n",
       "    <tr>\n",
       "      <th>258</th>\n",
       "      <td>410</td>\n",
       "      <td>ornskoldsvik</td>\n",
       "      <td>SE</td>\n",
       "      <td>64.4</td>\n",
       "      <td>63.29</td>\n",
       "      <td>18.72</td>\n",
       "      <td>scattered clouds</td>\n",
       "      <td>Scandic Örnsköldsvik</td>\n",
       "    </tr>\n",
       "  </tbody>\n",
       "</table>\n",
       "</div>"
      ],
      "text/plain": [
       "     City_ID          City Country  Max Temp    Lat    Lng  \\\n",
       "288      452     raudeberg      NO      66.2  61.99   5.14   \n",
       "284      447         vaasa      FI      71.6  63.10  21.62   \n",
       "122      210       sorland      NO      60.8  67.67  12.69   \n",
       "258      410  ornskoldsvik      SE      64.4  63.29  18.72   \n",
       "\n",
       "             Current Description            Hotel Name  \n",
       "288  light intensity shower rain         Nordre Silda.  \n",
       "284                   few clouds           Hotel Astor  \n",
       "122                broken clouds   Sjybrygga fiskecamp  \n",
       "258             scattered clouds  Scandic Örnsköldsvik  "
      ]
     },
     "execution_count": 31,
     "metadata": {},
     "output_type": "execute_result"
    }
   ],
   "source": [
    "itinerary_df"
   ]
  },
  {
   "cell_type": "code",
   "execution_count": 32,
   "metadata": {},
   "outputs": [
    {
     "data": {
      "text/html": [
       "<div>\n",
       "<style scoped>\n",
       "    .dataframe tbody tr th:only-of-type {\n",
       "        vertical-align: middle;\n",
       "    }\n",
       "\n",
       "    .dataframe tbody tr th {\n",
       "        vertical-align: top;\n",
       "    }\n",
       "\n",
       "    .dataframe thead th {\n",
       "        text-align: right;\n",
       "    }\n",
       "</style>\n",
       "<table border=\"1\" class=\"dataframe\">\n",
       "  <thead>\n",
       "    <tr style=\"text-align: right;\">\n",
       "      <th></th>\n",
       "      <th>City_ID</th>\n",
       "      <th>City</th>\n",
       "      <th>Country</th>\n",
       "      <th>Max Temp</th>\n",
       "      <th>Lat</th>\n",
       "      <th>Lng</th>\n",
       "      <th>Current Description</th>\n",
       "      <th>Hotel Name</th>\n",
       "    </tr>\n",
       "  </thead>\n",
       "  <tbody>\n",
       "    <tr>\n",
       "      <th>0</th>\n",
       "      <td>452</td>\n",
       "      <td>raudeberg</td>\n",
       "      <td>NO</td>\n",
       "      <td>66.2</td>\n",
       "      <td>61.99</td>\n",
       "      <td>5.14</td>\n",
       "      <td>light intensity shower rain</td>\n",
       "      <td>Nordre Silda.</td>\n",
       "    </tr>\n",
       "    <tr>\n",
       "      <th>1</th>\n",
       "      <td>447</td>\n",
       "      <td>vaasa</td>\n",
       "      <td>FI</td>\n",
       "      <td>71.6</td>\n",
       "      <td>63.10</td>\n",
       "      <td>21.62</td>\n",
       "      <td>few clouds</td>\n",
       "      <td>Hotel Astor</td>\n",
       "    </tr>\n",
       "    <tr>\n",
       "      <th>2</th>\n",
       "      <td>210</td>\n",
       "      <td>sorland</td>\n",
       "      <td>NO</td>\n",
       "      <td>60.8</td>\n",
       "      <td>67.67</td>\n",
       "      <td>12.69</td>\n",
       "      <td>broken clouds</td>\n",
       "      <td>Sjybrygga fiskecamp</td>\n",
       "    </tr>\n",
       "    <tr>\n",
       "      <th>3</th>\n",
       "      <td>410</td>\n",
       "      <td>ornskoldsvik</td>\n",
       "      <td>SE</td>\n",
       "      <td>64.4</td>\n",
       "      <td>63.29</td>\n",
       "      <td>18.72</td>\n",
       "      <td>scattered clouds</td>\n",
       "      <td>Scandic Örnsköldsvik</td>\n",
       "    </tr>\n",
       "  </tbody>\n",
       "</table>\n",
       "</div>"
      ],
      "text/plain": [
       "   City_ID          City Country  Max Temp    Lat    Lng  \\\n",
       "0      452     raudeberg      NO      66.2  61.99   5.14   \n",
       "1      447         vaasa      FI      71.6  63.10  21.62   \n",
       "2      210       sorland      NO      60.8  67.67  12.69   \n",
       "3      410  ornskoldsvik      SE      64.4  63.29  18.72   \n",
       "\n",
       "           Current Description            Hotel Name  \n",
       "0  light intensity shower rain         Nordre Silda.  \n",
       "1                   few clouds           Hotel Astor  \n",
       "2                broken clouds   Sjybrygga fiskecamp  \n",
       "3             scattered clouds  Scandic Örnsköldsvik  "
      ]
     },
     "execution_count": 32,
     "metadata": {},
     "output_type": "execute_result"
    }
   ],
   "source": [
    "itinerary_df.reset_index(drop=True)"
   ]
  },
  {
   "cell_type": "code",
   "execution_count": 33,
   "metadata": {},
   "outputs": [],
   "source": [
    "# Using the template add the hotel marks to the heatmap\n",
    "info_box_template = '''\n",
    "<dl>\n",
    "<dt>Hotel Name</dt><dd>{Hotel Name}</dd>\n",
    "<dt>City</dt><dd>{City}</dd>\n",
    "<dt>Country</dt><dd>{Country}</dd>\n",
    "<dt>Current Description</dt><dd>{Current Description} at {Max Temp}</dd>\n",
    "'''\n",
    "hotel_info = [info_box_template.format(**row) for index, row in itinerary_df.iterrows()]\n",
    "locations = itinerary_df[['Lat', 'Lng']]"
   ]
  },
  {
   "cell_type": "code",
   "execution_count": 34,
   "metadata": {},
   "outputs": [
    {
     "data": {
      "application/vnd.jupyter.widget-view+json": {
       "model_id": "21f6d84bb449430f8ee8cca15a6dad6c",
       "version_major": 2,
       "version_minor": 0
      },
      "text/plain": [
       "Figure(layout=FigureLayout(height='420px'))"
      ]
     },
     "metadata": {},
     "output_type": "display_data"
    }
   ],
   "source": [
    "marker_layer = gmaps.marker_layer(locations, info_box_content=hotel_info)\n",
    "fig = gmaps.figure()\n",
    "fig.add_layer(marker_layer)\n",
    "\n",
    "fig"
   ]
  }
 ],
 "metadata": {
  "kernelspec": {
   "display_name": "PythonData",
   "language": "python",
   "name": "pythondata"
  },
  "language_info": {
   "codemirror_mode": {
    "name": "ipython",
    "version": 3
   },
   "file_extension": ".py",
   "mimetype": "text/x-python",
   "name": "python",
   "nbconvert_exporter": "python",
   "pygments_lexer": "ipython3",
   "version": "3.7.7"
  }
 },
 "nbformat": 4,
 "nbformat_minor": 4
}
